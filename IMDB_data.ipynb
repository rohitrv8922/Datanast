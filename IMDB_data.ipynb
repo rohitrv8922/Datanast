{
  "nbformat": 4,
  "nbformat_minor": 0,
  "metadata": {
    "colab": {
      "provenance": []
    },
    "kernelspec": {
      "name": "python3",
      "display_name": "Python 3"
    },
    "language_info": {
      "name": "python"
    }
  },
  "cells": [
    {
      "cell_type": "markdown",
      "source": [
        "**"
      ],
      "metadata": {
        "id": "6-jp0XB0hj25"
      }
    },
    {
      "cell_type": "markdown",
      "source": [
        "**First of all need to import all the libraries**"
      ],
      "metadata": {
        "id": "2O4vJWxu_cQ0"
      }
    },
    {
      "cell_type": "code",
      "source": [
        "# Python Package imports\n",
        "import requests\n",
        "from bs4 import BeautifulSoup\n",
        "from dateutil.parser import parse\n",
        "import concurrent.futures\n",
        "import pandas as pd"
      ],
      "metadata": {
        "id": "Ec6cw4ND8bt9"
      },
      "execution_count": null,
      "outputs": []
    },
    {
      "cell_type": "markdown",
      "source": [
        "**We want the IMDB data of top 50.So we set their threada upto 50**"
      ],
      "metadata": {
        "id": "YaDkMftu_mLi"
      }
    },
    {
      "cell_type": "code",
      "source": [
        "# Maximum number of threads that will be spawned\n",
        "max_data = 50"
      ],
      "metadata": {
        "id": "PsHyMo_k8f-3"
      },
      "execution_count": null,
      "outputs": []
    },
    {
      "cell_type": "markdown",
      "source": [
        "**Now creating the variables which stores the values of movies title,year,genere,synopis,url of the movie and it's image id**"
      ],
      "metadata": {
        "id": "RgIL4DgE_6TF"
      }
    },
    {
      "cell_type": "code",
      "source": [
        "movie_title_arr = []\n",
        "movie_year_arr = []\n",
        "movie_genre_arr = []\n",
        "movie_synopsis_arr =[]\n",
        "image_url_arr= []\n",
        "image_id_arr = []"
      ],
      "metadata": {
        "id": "simF9vLC8kES"
      },
      "execution_count": null,
      "outputs": []
    },
    {
      "cell_type": "markdown",
      "source": [
        "**After creating the variables we going to create different functions for scraping different data from different coulmns**"
      ],
      "metadata": {
        "id": "oqDqO0C1AToE"
      }
    },
    {
      "cell_type": "markdown",
      "source": [
        "**Create a function for movies title**"
      ],
      "metadata": {
        "id": "STy2mnO8As8l"
      }
    },
    {
      "cell_type": "code",
      "source": [
        "def getMovieTitle(header):\n",
        "    try:\n",
        "        return header[0].find(\"a\").getText()\n",
        "    except:\n",
        "        return 'NA'"
      ],
      "metadata": {
        "id": "ZEwXp_9kA5rL"
      },
      "execution_count": null,
      "outputs": []
    },
    {
      "cell_type": "markdown",
      "source": [
        "**Function for extracting the release date of all the movies**"
      ],
      "metadata": {
        "id": "yiIFXJYtBQr5"
      }
    },
    {
      "cell_type": "code",
      "source": [
        "def getReleaseYear(header):\n",
        "    try:\n",
        "        return header[0].find(\"span\",  {\"class\": \"lister-item-year text-muted unbold\"}).getText()\n",
        "    except:\n",
        "        return 'NA'"
      ],
      "metadata": {
        "id": "PsfJD0KBBRR5"
      },
      "execution_count": null,
      "outputs": []
    },
    {
      "cell_type": "markdown",
      "source": [
        "**Function for getting the genre of the movies**"
      ],
      "metadata": {
        "id": "PFQXGThhBATA"
      }
    },
    {
      "cell_type": "code",
      "source": [
        "def getGenre(muted_text):\n",
        "    try:\n",
        "        return muted_text.find(\"span\",  {\"class\":  \"genre\"}).getText()\n",
        "    except:\n",
        "        return 'NA'"
      ],
      "metadata": {
        "id": "d4FUIvk7BLRk"
      },
      "execution_count": null,
      "outputs": []
    },
    {
      "cell_type": "markdown",
      "source": [
        "**To get synopis of the movies**"
      ],
      "metadata": {
        "id": "x_N4WnWqBkpq"
      }
    },
    {
      "cell_type": "code",
      "source": [
        "\n",
        "def getsynopsys(movie):\n",
        "    try:\n",
        "        return movie.find_all(\"p\", {\"class\":  \"text-muted\"})[1].getText()\n",
        "    except:\n",
        "        return 'NA'"
      ],
      "metadata": {
        "id": "Qa8-jvj0BtyO"
      },
      "execution_count": null,
      "outputs": []
    },
    {
      "cell_type": "markdown",
      "source": [
        "**Create function to extract image url**"
      ],
      "metadata": {
        "id": "HLPdNTSNBxPn"
      }
    },
    {
      "cell_type": "code",
      "source": [
        "def getImage(image):\n",
        "    try:\n",
        "        return image.get('loadlate')\n",
        "    except:\n",
        "        return 'NA'"
      ],
      "metadata": {
        "id": "pKM-A4pHB4na"
      },
      "execution_count": null,
      "outputs": []
    },
    {
      "cell_type": "markdown",
      "source": [
        "**Lastly creating a function for image id or image icon of the movie**"
      ],
      "metadata": {
        "id": "nR1ShMPAB90Y"
      }
    },
    {
      "cell_type": "code",
      "source": [
        "def getImageId(image):\n",
        "    try:\n",
        "        return image.get('data-tconst')\n",
        "    except:\n",
        "        return 'NA'"
      ],
      "metadata": {
        "id": "EUbqgyhO8oGU"
      },
      "execution_count": null,
      "outputs": []
    },
    {
      "cell_type": "markdown",
      "source": [
        "**After that we creating a main function where we call all the above functions and also extract the data with the functions to obtain a list of top 50 IMDB movies data** "
      ],
      "metadata": {
        "id": "CqsTF3nuCK5F"
      }
    },
    {
      "cell_type": "code",
      "source": [
        "def main(imdb_url):\n",
        "    response = requests.get(imdb_url)\n",
        "    soup = BeautifulSoup(response.text, 'html.parser')\n",
        "\n",
        "    # Movie Name\n",
        "    movies_list  = soup.find_all(\"div\", {\"class\": \"lister-item mode-advanced\"})\n",
        "    \n",
        "    for movie in movies_list:\n",
        "        header = movie.find_all(\"h3\", {\"class\":  \"lister-item-header\"})\n",
        "        muted_text = movie.find_all(\"p\", {\"class\":  \"text-muted\"})[0]\n",
        "        imageDiv =  movie.find(\"div\", {\"class\": \"lister-item-image float-left\"})\n",
        "        image = imageDiv.find(\"img\", \"loadlate\")\n",
        "        \n",
        "        #  Movie Title\n",
        "        movie_title =  getMovieTitle(header)\n",
        "        movie_title_arr.append(movie_title)\n",
        "        \n",
        "        #  Movie release year\n",
        "        year = getReleaseYear(header)\n",
        "        movie_year_arr.append(year)\n",
        "        \n",
        "        #  Genre  of movie\n",
        "        genre = getGenre(muted_text)\n",
        "        movie_genre_arr.append(genre)\n",
        "        \n",
        "        # Movie Synopsys\n",
        "        synopsis = getsynopsys(movie)\n",
        "        movie_synopsis_arr.append(synopsis)\n",
        "        \n",
        "        #  Image attributes\n",
        "        img_url = getImage(image)\n",
        "        image_url_arr.append(img_url)\n",
        "        \n",
        "        image_id = image.get('data-tconst')\n",
        "        image_id_arr.append(image_id)"
      ],
      "metadata": {
        "id": "Mb6dq2Ro8sw7"
      },
      "execution_count": null,
      "outputs": []
    },
    {
      "cell_type": "markdown",
      "source": [
        "**After that we running a loop to scrap starting 50 movies data from the imdb store**"
      ],
      "metadata": {
        "id": "ZCux01A_CxON"
      }
    },
    {
      "cell_type": "code",
      "source": [
        "# An array to store all the URL that are being queried\n",
        "image_array = []\n",
        "\n",
        "# Maximum number of pages one wants to iterate over\n",
        "max_pg =51\n",
        "\n",
        "# Loop to generate all the URLS.\n",
        "for i in range(0,max_pg):\n",
        "    total_records = 0 if i==0 else (250*i)+1\n",
        "    print(total_records)\n",
        "    imdb_url = f'https://www.imdb.com/search/title/?release_date=2020-01-02,2021-02-01&user_rating=4.0,10.0&languages=en&count=250&start={total_records}&ref_=adv_nxt'\n",
        "    image_array.append(imdb_url)"
      ],
      "metadata": {
        "colab": {
          "base_uri": "https://localhost:8080/"
        },
        "id": "YlLkk5KJ8yZl",
        "outputId": "c604216b-672e-4368-afe5-5afb6e0b3ace"
      },
      "execution_count": null,
      "outputs": [
        {
          "output_type": "stream",
          "name": "stdout",
          "text": [
            "0\n",
            "251\n",
            "501\n",
            "751\n",
            "1001\n",
            "1251\n",
            "1501\n",
            "1751\n",
            "2001\n",
            "2251\n",
            "2501\n",
            "2751\n",
            "3001\n",
            "3251\n",
            "3501\n",
            "3751\n",
            "4001\n",
            "4251\n",
            "4501\n",
            "4751\n",
            "5001\n",
            "5251\n",
            "5501\n",
            "5751\n",
            "6001\n",
            "6251\n",
            "6501\n",
            "6751\n",
            "7001\n",
            "7251\n",
            "7501\n",
            "7751\n",
            "8001\n",
            "8251\n",
            "8501\n",
            "8751\n",
            "9001\n",
            "9251\n",
            "9501\n",
            "9751\n",
            "10001\n",
            "10251\n",
            "10501\n",
            "10751\n",
            "11001\n",
            "11251\n",
            "11501\n",
            "11751\n",
            "12001\n",
            "12251\n",
            "12501\n"
          ]
        }
      ]
    },
    {
      "cell_type": "code",
      "source": [
        "def download_stories(story_urls):\n",
        "    data_list = min(max_data, len(story_urls))\n",
        "    with concurrent.futures.ThreadPoolExecutor(max_workers=data_list) as executor:\n",
        "        executor.map(main, story_urls)"
      ],
      "metadata": {
        "id": "hyvRrb1E83m6"
      },
      "execution_count": null,
      "outputs": []
    },
    {
      "cell_type": "markdown",
      "source": [
        "**Now after scraping the data we going to save the data output in the csv file**"
      ],
      "metadata": {
        "id": "yL5CDAL6DJGr"
      }
    },
    {
      "cell_type": "code",
      "source": [
        "# Call the download function with the array of URLS called imageArr\n",
        "download_stories(image_array)\n",
        "\n",
        "# Attach all the data to the pandas dataframe. You can optionally write it to a CSV file as well\n",
        "movieDf = pd.DataFrame({\n",
        "    \"Title\": movie_title_arr,\n",
        "    \"Release_Year\": movie_year_arr,\n",
        "    \"Genre\": movie_genre_arr,\n",
        "    \"Synopsis\": movie_synopsis_arr,\n",
        "    \"image_url\": image_url_arr,\n",
        "    \"image_id\": image_id_arr,\n",
        "})\n",
        "\n",
        "print('--------- Download Complete CSV Formed --------')\n",
        "\n",
        "movieDf.to_csv('file.csv', index=False)\n",
        "\n",
        "movieDf.head()"
      ],
      "metadata": {
        "colab": {
          "base_uri": "https://localhost:8080/",
          "height": 225
        },
        "id": "UiJSkRdO89aQ",
        "outputId": "fbbf7987-9dd9-4149-d32d-7431d3c731a0"
      },
      "execution_count": null,
      "outputs": [
        {
          "output_type": "stream",
          "name": "stdout",
          "text": [
            "--------- Download Complete CSV Formed --------\n"
          ]
        },
        {
          "output_type": "execute_result",
          "data": {
            "text/plain": [
              "             Title Release_Year                                 Genre  \\\n",
              "0        Ted Lasso     (2020– )    \\nComedy, Drama, Sport               \n",
              "1      Warrior Nun     (2020– )  \\nAction, Drama, Fantasy               \n",
              "2          Big Sky     (2020– )   \\nCrime, Drama, Mystery               \n",
              "3         Avenue 5     (2020– )          \\nComedy, Sci-Fi               \n",
              "4  Gangs of London     (2020– )    \\nAction, Crime, Drama               \n",
              "\n",
              "                                            Synopsis  \\\n",
              "0  \\nAmerican college football coach Ted Lasso he...   \n",
              "1  \\nAfter waking up in a morgue, an orphaned tee...   \n",
              "2  \\nA private detective teams up with an ex-cop ...   \n",
              "3  \\nThe troubled crew of Avenue 5, a space cruis...   \n",
              "4  \\nTells the story of London being torn apart b...   \n",
              "\n",
              "                                           image_url    image_id  \n",
              "0  https://m.media-amazon.com/images/M/MV5BMDVmOD...  tt10986410  \n",
              "1  https://m.media-amazon.com/images/M/MV5BNjI1NT...   tt9059350  \n",
              "2  https://m.media-amazon.com/images/M/MV5BYTM2Y2...  tt11794642  \n",
              "3  https://m.media-amazon.com/images/M/MV5BZGMyMz...  tt10234362  \n",
              "4  https://m.media-amazon.com/images/M/MV5BOGJlZT...   tt7661390  "
            ],
            "text/html": [
              "\n",
              "  <div id=\"df-14f111de-a298-462e-aaec-10d0c75cca7a\">\n",
              "    <div class=\"colab-df-container\">\n",
              "      <div>\n",
              "<style scoped>\n",
              "    .dataframe tbody tr th:only-of-type {\n",
              "        vertical-align: middle;\n",
              "    }\n",
              "\n",
              "    .dataframe tbody tr th {\n",
              "        vertical-align: top;\n",
              "    }\n",
              "\n",
              "    .dataframe thead th {\n",
              "        text-align: right;\n",
              "    }\n",
              "</style>\n",
              "<table border=\"1\" class=\"dataframe\">\n",
              "  <thead>\n",
              "    <tr style=\"text-align: right;\">\n",
              "      <th></th>\n",
              "      <th>Title</th>\n",
              "      <th>Release_Year</th>\n",
              "      <th>Genre</th>\n",
              "      <th>Synopsis</th>\n",
              "      <th>image_url</th>\n",
              "      <th>image_id</th>\n",
              "    </tr>\n",
              "  </thead>\n",
              "  <tbody>\n",
              "    <tr>\n",
              "      <th>0</th>\n",
              "      <td>Ted Lasso</td>\n",
              "      <td>(2020– )</td>\n",
              "      <td>\\nComedy, Drama, Sport</td>\n",
              "      <td>\\nAmerican college football coach Ted Lasso he...</td>\n",
              "      <td>https://m.media-amazon.com/images/M/MV5BMDVmOD...</td>\n",
              "      <td>tt10986410</td>\n",
              "    </tr>\n",
              "    <tr>\n",
              "      <th>1</th>\n",
              "      <td>Warrior Nun</td>\n",
              "      <td>(2020– )</td>\n",
              "      <td>\\nAction, Drama, Fantasy</td>\n",
              "      <td>\\nAfter waking up in a morgue, an orphaned tee...</td>\n",
              "      <td>https://m.media-amazon.com/images/M/MV5BNjI1NT...</td>\n",
              "      <td>tt9059350</td>\n",
              "    </tr>\n",
              "    <tr>\n",
              "      <th>2</th>\n",
              "      <td>Big Sky</td>\n",
              "      <td>(2020– )</td>\n",
              "      <td>\\nCrime, Drama, Mystery</td>\n",
              "      <td>\\nA private detective teams up with an ex-cop ...</td>\n",
              "      <td>https://m.media-amazon.com/images/M/MV5BYTM2Y2...</td>\n",
              "      <td>tt11794642</td>\n",
              "    </tr>\n",
              "    <tr>\n",
              "      <th>3</th>\n",
              "      <td>Avenue 5</td>\n",
              "      <td>(2020– )</td>\n",
              "      <td>\\nComedy, Sci-Fi</td>\n",
              "      <td>\\nThe troubled crew of Avenue 5, a space cruis...</td>\n",
              "      <td>https://m.media-amazon.com/images/M/MV5BZGMyMz...</td>\n",
              "      <td>tt10234362</td>\n",
              "    </tr>\n",
              "    <tr>\n",
              "      <th>4</th>\n",
              "      <td>Gangs of London</td>\n",
              "      <td>(2020– )</td>\n",
              "      <td>\\nAction, Crime, Drama</td>\n",
              "      <td>\\nTells the story of London being torn apart b...</td>\n",
              "      <td>https://m.media-amazon.com/images/M/MV5BOGJlZT...</td>\n",
              "      <td>tt7661390</td>\n",
              "    </tr>\n",
              "  </tbody>\n",
              "</table>\n",
              "</div>\n",
              "      <button class=\"colab-df-convert\" onclick=\"convertToInteractive('df-14f111de-a298-462e-aaec-10d0c75cca7a')\"\n",
              "              title=\"Convert this dataframe to an interactive table.\"\n",
              "              style=\"display:none;\">\n",
              "        \n",
              "  <svg xmlns=\"http://www.w3.org/2000/svg\" height=\"24px\"viewBox=\"0 0 24 24\"\n",
              "       width=\"24px\">\n",
              "    <path d=\"M0 0h24v24H0V0z\" fill=\"none\"/>\n",
              "    <path d=\"M18.56 5.44l.94 2.06.94-2.06 2.06-.94-2.06-.94-.94-2.06-.94 2.06-2.06.94zm-11 1L8.5 8.5l.94-2.06 2.06-.94-2.06-.94L8.5 2.5l-.94 2.06-2.06.94zm10 10l.94 2.06.94-2.06 2.06-.94-2.06-.94-.94-2.06-.94 2.06-2.06.94z\"/><path d=\"M17.41 7.96l-1.37-1.37c-.4-.4-.92-.59-1.43-.59-.52 0-1.04.2-1.43.59L10.3 9.45l-7.72 7.72c-.78.78-.78 2.05 0 2.83L4 21.41c.39.39.9.59 1.41.59.51 0 1.02-.2 1.41-.59l7.78-7.78 2.81-2.81c.8-.78.8-2.07 0-2.86zM5.41 20L4 18.59l7.72-7.72 1.47 1.35L5.41 20z\"/>\n",
              "  </svg>\n",
              "      </button>\n",
              "      \n",
              "  <style>\n",
              "    .colab-df-container {\n",
              "      display:flex;\n",
              "      flex-wrap:wrap;\n",
              "      gap: 12px;\n",
              "    }\n",
              "\n",
              "    .colab-df-convert {\n",
              "      background-color: #E8F0FE;\n",
              "      border: none;\n",
              "      border-radius: 50%;\n",
              "      cursor: pointer;\n",
              "      display: none;\n",
              "      fill: #1967D2;\n",
              "      height: 32px;\n",
              "      padding: 0 0 0 0;\n",
              "      width: 32px;\n",
              "    }\n",
              "\n",
              "    .colab-df-convert:hover {\n",
              "      background-color: #E2EBFA;\n",
              "      box-shadow: 0px 1px 2px rgba(60, 64, 67, 0.3), 0px 1px 3px 1px rgba(60, 64, 67, 0.15);\n",
              "      fill: #174EA6;\n",
              "    }\n",
              "\n",
              "    [theme=dark] .colab-df-convert {\n",
              "      background-color: #3B4455;\n",
              "      fill: #D2E3FC;\n",
              "    }\n",
              "\n",
              "    [theme=dark] .colab-df-convert:hover {\n",
              "      background-color: #434B5C;\n",
              "      box-shadow: 0px 1px 3px 1px rgba(0, 0, 0, 0.15);\n",
              "      filter: drop-shadow(0px 1px 2px rgba(0, 0, 0, 0.3));\n",
              "      fill: #FFFFFF;\n",
              "    }\n",
              "  </style>\n",
              "\n",
              "      <script>\n",
              "        const buttonEl =\n",
              "          document.querySelector('#df-14f111de-a298-462e-aaec-10d0c75cca7a button.colab-df-convert');\n",
              "        buttonEl.style.display =\n",
              "          google.colab.kernel.accessAllowed ? 'block' : 'none';\n",
              "\n",
              "        async function convertToInteractive(key) {\n",
              "          const element = document.querySelector('#df-14f111de-a298-462e-aaec-10d0c75cca7a');\n",
              "          const dataTable =\n",
              "            await google.colab.kernel.invokeFunction('convertToInteractive',\n",
              "                                                     [key], {});\n",
              "          if (!dataTable) return;\n",
              "\n",
              "          const docLinkHtml = 'Like what you see? Visit the ' +\n",
              "            '<a target=\"_blank\" href=https://colab.research.google.com/notebooks/data_table.ipynb>data table notebook</a>'\n",
              "            + ' to learn more about interactive tables.';\n",
              "          element.innerHTML = '';\n",
              "          dataTable['output_type'] = 'display_data';\n",
              "          await google.colab.output.renderOutput(dataTable, element);\n",
              "          const docLink = document.createElement('div');\n",
              "          docLink.innerHTML = docLinkHtml;\n",
              "          element.appendChild(docLink);\n",
              "        }\n",
              "      </script>\n",
              "    </div>\n",
              "  </div>\n",
              "  "
            ]
          },
          "metadata": {},
          "execution_count": 16
        }
      ]
    }
  ]
}